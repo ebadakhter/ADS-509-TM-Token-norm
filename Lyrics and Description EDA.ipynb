{
 "cells": [
  {
   "cell_type": "markdown",
   "id": "7f79baf9",
   "metadata": {},
   "source": [
    "# ADS 509 Assignment 2.1: Tokenization, Normalization, Descriptive Statistics \n",
    "\n",
    "This notebook holds Assignment 2.1 for Module 2 in ADS 509, Applied Text Mining. Work through this notebook, writing code and answering questions where required. \n",
    "\n",
    "In the previous assignment you pulled lyrics data on two artists. In this assignment we explore this data set and a pull from the now-defunct Twitter API for the artists Cher and Robyn.  If, for some reason, you did not complete that previous assignment, data to use for this assignment can be found in the assignment materials section of Canvas. \n",
    "\n",
    "This assignment asks you to write a short function to calculate some descriptive statistics on a piece of text. Then you are asked to find some interesting and unique statistics on your corpora. \n"
   ]
  },
  {
   "cell_type": "markdown",
   "id": "aae8e2e1",
   "metadata": {},
   "source": [
    "## General Assignment Instructions\n",
    "\n",
    "These instructions are included in every assignment, to remind you of the coding standards for the class. Feel free to delete this cell after reading it. \n",
    "\n",
    "One sign of mature code is conforming to a style guide. We recommend the [Google Python Style Guide](https://google.github.io/styleguide/pyguide.html). If you use a different style guide, please include a cell with a link. \n",
    "\n",
    "Your code should be relatively easy-to-read, sensibly commented, and clean. Writing code is a messy process, so please be sure to edit your final submission. Remove any cells that are not needed or parts of cells that contain unnecessary code. Remove inessential `import` statements and make sure that all such statements are moved into the designated cell. \n",
    "\n",
    "Make use of non-code cells for written commentary. These cells should be grammatical and clearly written. In some of these cells you will have questions to answer. The questions will be marked by a \"Q:\" and will have a corresponding \"A:\" spot for you. *Make sure to answer every question marked with a `Q:` for full credit.* \n"
   ]
  },
  {
   "cell_type": "code",
   "execution_count": 1,
   "id": "e2d096b7",
   "metadata": {},
   "outputs": [
    {
     "name": "stdout",
     "output_type": "stream",
     "text": [
      "Defaulting to user installation because normal site-packages is not writeable\n",
      "Requirement already satisfied: emoji in c:\\users\\ebbi_\\appdata\\roaming\\python\\python311\\site-packages (2.10.0)\n"
     ]
    },
    {
     "name": "stderr",
     "output_type": "stream",
     "text": [
      "[nltk_data] Downloading package stopwords to\n",
      "[nltk_data]     C:\\Users\\ebbi_\\AppData\\Roaming\\nltk_data...\n",
      "[nltk_data]   Package stopwords is already up-to-date!\n"
     ]
    }
   ],
   "source": [
    "import os\n",
    "import re\n",
    "!pip install emoji\n",
    "import emoji\n",
    "import pandas as pd\n",
    "import numpy as np\n",
    "\n",
    "from collections import Counter, defaultdict\n",
    "import nltk\n",
    "nltk.download('stopwords')\n",
    "from nltk.corpus import stopwords\n",
    "from string import punctuation\n",
    "\n",
    "sw = stopwords.words(\"english\")"
   ]
  },
  {
   "cell_type": "code",
   "execution_count": 2,
   "id": "6b555ab2",
   "metadata": {},
   "outputs": [],
   "source": [
    "# Add any additional import statements you need here\n",
    "\n",
    "import glob\n"
   ]
  },
  {
   "cell_type": "code",
   "execution_count": 3,
   "id": "923b5a86",
   "metadata": {},
   "outputs": [],
   "source": [
    "# change `data_location` to the location of the folder on your machine.\n",
    "data_location = \"C:/USD/MSADS/Spring 24/ADS 509/Module 1/Assignment/Assignment 1.1/ADS-509-TM/\"\n",
    "\n",
    "# These subfolders should still work if you correctly stored the \n",
    "# data from the Module 1 assignment\n",
    "twitter_folder = \"twitter/\"\n",
    "lyrics_folder = \"lyrics/\""
   ]
  },
  {
   "cell_type": "code",
   "execution_count": 4,
   "id": "06522af9",
   "metadata": {},
   "outputs": [],
   "source": [
    "def descriptive_stats(tokens, num_tokens = 5, verbose=True) :\n",
    "    counter = Counter()\n",
    "    tokens.map(counter.update)\n",
    "    frequency_df = pd.DataFrame.from_dict(counter, orient='index',\n",
    "                                          columns=['freq'])\n",
    "    \n",
    "    counter_df = pd.DataFrame.from_dict(counter, orient='index').reset_index()\n",
    "\n",
    "    # Fill in the correct values here.    \n",
    "    num_tokens = sum(frequency_df['freq'])\n",
    "    num_unique_tokens = frequency_df.shape[0]\n",
    "    lexical_diversity = num_unique_tokens / num_tokens\n",
    "    num_characters = sum((counter_df['index'].str.len()) * counter_df[0])\n",
    "    \n",
    "    \n",
    "    if verbose :        \n",
    "        print(f\"There are {num_tokens} tokens in the data.\")\n",
    "        print(f\"There are {num_unique_tokens} unique tokens in the data.\")\n",
    "        print(f\"There are {num_characters} characters in the data.\")\n",
    "        print(f\"The lexical diversity is {lexical_diversity:.3f} in the data.\")\n",
    "        # print the five most common tokens\n",
    "        print(f\"The top 5 most common words are\")\n",
    "        print(counter.most_common(5))\n",
    "        \n",
    "    return([num_tokens, num_unique_tokens,\n",
    "            lexical_diversity,\n",
    "            num_characters])\n",
    "    "
   ]
  },
  {
   "cell_type": "code",
   "execution_count": 5,
   "metadata": {},
   "outputs": [
    {
     "data": {
      "text/html": [
       "<div>\n",
       "<style scoped>\n",
       "    .dataframe tbody tr th:only-of-type {\n",
       "        vertical-align: middle;\n",
       "    }\n",
       "\n",
       "    .dataframe tbody tr th {\n",
       "        vertical-align: top;\n",
       "    }\n",
       "\n",
       "    .dataframe thead th {\n",
       "        text-align: right;\n",
       "    }\n",
       "</style>\n",
       "<table border=\"1\" class=\"dataframe\">\n",
       "  <thead>\n",
       "    <tr style=\"text-align: right;\">\n",
       "      <th></th>\n",
       "      <th>Text</th>\n",
       "    </tr>\n",
       "  </thead>\n",
       "  <tbody>\n",
       "    <tr>\n",
       "      <th>0</th>\n",
       "      <td>This is an Acura TLX</td>\n",
       "    </tr>\n",
       "    <tr>\n",
       "      <th>1</th>\n",
       "      <td>TLX comes standard with Adaptive Cruise</td>\n",
       "    </tr>\n",
       "    <tr>\n",
       "      <th>2</th>\n",
       "      <td>There is an optional HeadsUp Display</td>\n",
       "    </tr>\n",
       "    <tr>\n",
       "      <th>3</th>\n",
       "      <td>There are two engine variations</td>\n",
       "    </tr>\n",
       "    <tr>\n",
       "      <th>4</th>\n",
       "      <td>A Two Litre InLine 4 and a Three Litre V6</td>\n",
       "    </tr>\n",
       "  </tbody>\n",
       "</table>\n",
       "</div>"
      ],
      "text/plain": [
       "                                        Text\n",
       "0                       This is an Acura TLX\n",
       "1    TLX comes standard with Adaptive Cruise\n",
       "2       There is an optional HeadsUp Display\n",
       "3            There are two engine variations\n",
       "4  A Two Litre InLine 4 and a Three Litre V6"
      ]
     },
     "execution_count": 5,
     "metadata": {},
     "output_type": "execute_result"
    }
   ],
   "source": [
    "sampleText = [\"This is an Acura TLX\", \n",
    "              \"TLX comes standard with Adaptive Cruise\",\n",
    "              \"There is an optional HeadsUp Display\",\n",
    "              \"There are two engine variations\",\n",
    "              \"A Two Litre InLine 4 and a Three Litre V6\"]\n",
    "\n",
    "sampleText_df = pd.DataFrame(sampleText, columns=['Text'])\n",
    "sampleText_df"
   ]
  },
  {
   "cell_type": "code",
   "execution_count": 6,
   "metadata": {},
   "outputs": [],
   "source": [
    "def tokenizeText(text):\n",
    "    return re.findall(r'\\w+(?:\\.?\\w+)*', text)"
   ]
  },
  {
   "cell_type": "code",
   "execution_count": 7,
   "metadata": {},
   "outputs": [],
   "source": [
    "transform = [str.lower, tokenizeText]\n",
    "def prepareData(text, transform):\n",
    "    tokens = text\n",
    "    for info in transform:\n",
    "        tokens = info(tokens)\n",
    "    return tokens"
   ]
  },
  {
   "cell_type": "code",
   "execution_count": 8,
   "metadata": {},
   "outputs": [
    {
     "data": {
      "text/plain": [
       "0                           [this, is, an, acura, tlx]\n",
       "1       [tlx, comes, standard, with, adaptive, cruise]\n",
       "2          [there, is, an, optional, headsup, display]\n",
       "3                [there, are, two, engine, variations]\n",
       "4    [a, two, litre, inline, 4, and, a, three, litr...\n",
       "Name: tokens, dtype: object"
      ]
     },
     "execution_count": 8,
     "metadata": {},
     "output_type": "execute_result"
    }
   ],
   "source": [
    "sampleText_df['tokens'] = sampleText_df['Text'].apply(\n",
    "    prepareData, transform=transform)\n",
    "sampleText_df['tokens']"
   ]
  },
  {
   "cell_type": "code",
   "execution_count": 9,
   "id": "59dcf058",
   "metadata": {},
   "outputs": [
    {
     "name": "stdout",
     "output_type": "stream",
     "text": [
      "There are 32 tokens in the data.\n",
      "There are 25 unique tokens in the data.\n",
      "There are 140 characters in the data.\n",
      "The lexical diversity is 0.781 in the data.\n",
      "The top 5 most common words are\n",
      "[('is', 2), ('an', 2), ('tlx', 2), ('there', 2), ('two', 2)]\n"
     ]
    }
   ],
   "source": [
    "#text = \"\"\"here is some example text with other example text here in this text\"\"\".split()\n",
    "assert(descriptive_stats(sampleText_df[\"tokens\"],\n",
    "                         verbose=True)[0] == 32)\n",
    "assert(descriptive_stats(sampleText_df[\"tokens\"],\n",
    "                         verbose=False)[1] == 25)\n",
    "assert(descriptive_stats(sampleText_df[\"tokens\"],\n",
    "                         verbose=False)[2] == 0.78125)\n",
    "assert(descriptive_stats(sampleText_df[\"tokens\"],\n",
    "                         verbose=False)[3] == 140)"
   ]
  },
  {
   "cell_type": "markdown",
   "id": "d2e7e1a2",
   "metadata": {},
   "source": [
    "Q: Why is it beneficial to use assertion statements in your code? \n",
    "\n",
    "A: Assertions in code act like a safety net, helping catch and fix mistakes early on. They also serve as notes to explain how things should work, making it easier for developers to understand and collaborate. By using them, we ensure our code behaves as expected, catching issues before they reach the final product."
   ]
  },
  {
   "cell_type": "markdown",
   "id": "9d3bf93e",
   "metadata": {},
   "source": [
    "## Data Input\n",
    "\n",
    "Now read in each of the corpora. For the lyrics data, it may be convenient to store the entire contents of the file to make it easier to inspect the titles individually, as you'll do in the last part of the assignment. In the solution, I stored the lyrics data in a dictionary with two dimensions of keys: artist and song. The value was the file contents. A data frame would work equally well. \n",
    "\n",
    "For the Twitter data, we only need the description field for this assignment. Feel free all the descriptions read it into a data structure. In the solution, I stored the descriptions as a dictionary of lists, with the key being the artist. \n",
    "\n",
    "\n"
   ]
  },
  {
   "cell_type": "code",
   "execution_count": 10,
   "id": "37d70801",
   "metadata": {},
   "outputs": [],
   "source": [
    "# Read in the lyrics data\n",
    "\n",
    "os.chdir(data_location+lyrics_folder)\n",
    "\n",
    "taylorswift_file_list = glob.glob(\n",
    "    os.path.join(\n",
    "        os.getcwd(), \"taylorswift\", \"*.txt\"))\n",
    "\n",
    "taylorswiftlyrics = []\n",
    "\n",
    "for file_path in taylorswift_file_list:\n",
    "    with open(file_path) as f_input:\n",
    "        lyrics = (f_input.read())\n",
    "        file_name = file_path.split(\"/\")[-1]\n",
    "        taylorswiftlyrics.append(\n",
    "            {\n",
    "                'Artist': \"Taylor Swift\",\n",
    "                'Song': file_name,\n",
    "                'Lyrics': lyrics\n",
    "            }\n",
    "        )\n",
    "        \n",
    "taylorswiftlyrics = pd.DataFrame(taylorswiftlyrics)\n",
    "\n",
    "\n"
   ]
  },
  {
   "cell_type": "code",
   "execution_count": 11,
   "id": "debcac5a",
   "metadata": {},
   "outputs": [],
   "source": [
    "# There are two artist in our module 1\n",
    "\n",
    "eminem_file_list = glob.glob(\n",
    "    os.path.join(\n",
    "        os.getcwd(), \"eminem\", \"*.txt\"))\n",
    "\n",
    "eminemlyrics = []\n",
    "\n",
    "for file_path in eminem_file_list:\n",
    "    with open(file_path) as f_input:\n",
    "        lyrics = (f_input.read())\n",
    "        file_name = file_path.split(\"/\")[-1]\n",
    "        eminemlyrics.append(\n",
    "            {\n",
    "                'Artist': \"Eminem\",\n",
    "                'Song': file_name,\n",
    "                'Lyrics': lyrics\n",
    "            }\n",
    "        )\n",
    "        \n",
    "eminemlyrics = pd.DataFrame(eminemlyrics)"
   ]
  },
  {
   "cell_type": "code",
   "execution_count": 12,
   "metadata": {},
   "outputs": [
    {
     "data": {
      "text/html": [
       "<div>\n",
       "<style scoped>\n",
       "    .dataframe tbody tr th:only-of-type {\n",
       "        vertical-align: middle;\n",
       "    }\n",
       "\n",
       "    .dataframe tbody tr th {\n",
       "        vertical-align: top;\n",
       "    }\n",
       "\n",
       "    .dataframe thead th {\n",
       "        text-align: right;\n",
       "    }\n",
       "</style>\n",
       "<table border=\"1\" class=\"dataframe\">\n",
       "  <thead>\n",
       "    <tr style=\"text-align: right;\">\n",
       "      <th></th>\n",
       "      <th>Artist</th>\n",
       "      <th>Song</th>\n",
       "      <th>Lyrics</th>\n",
       "    </tr>\n",
       "  </thead>\n",
       "  <tbody>\n",
       "    <tr>\n",
       "      <th>0</th>\n",
       "      <td>Taylor Swift</td>\n",
       "      <td>C:\\USD\\MSADS\\Spring 24\\ADS 509\\Module 1\\Assign...</td>\n",
       "      <td>alittlemorelikeyou\\n\\nThink of something you c...</td>\n",
       "    </tr>\n",
       "    <tr>\n",
       "      <th>1</th>\n",
       "      <td>Taylor Swift</td>\n",
       "      <td>C:\\USD\\MSADS\\Spring 24\\ADS 509\\Module 1\\Assign...</td>\n",
       "      <td>babyblue\\n\\nSmall town, big blue sky\\nLittle b...</td>\n",
       "    </tr>\n",
       "    <tr>\n",
       "      <th>2</th>\n",
       "      <td>Taylor Swift</td>\n",
       "      <td>C:\\USD\\MSADS\\Spring 24\\ADS 509\\Module 1\\Assign...</td>\n",
       "      <td>beautifuldays\\n\\nA moment just passed\\nAnd I k...</td>\n",
       "    </tr>\n",
       "    <tr>\n",
       "      <th>3</th>\n",
       "      <td>Taylor Swift</td>\n",
       "      <td>C:\\USD\\MSADS\\Spring 24\\ADS 509\\Module 1\\Assign...</td>\n",
       "      <td>fire\\n\\nAsking you questions is like asking fo...</td>\n",
       "    </tr>\n",
       "    <tr>\n",
       "      <th>4</th>\n",
       "      <td>Taylor Swift</td>\n",
       "      <td>C:\\USD\\MSADS\\Spring 24\\ADS 509\\Module 1\\Assign...</td>\n",
       "      <td>halfwaytotexas\\n\\nWhen I got mad at you, I alw...</td>\n",
       "    </tr>\n",
       "    <tr>\n",
       "      <th>5</th>\n",
       "      <td>Taylor Swift</td>\n",
       "      <td>C:\\USD\\MSADS\\Spring 24\\ADS 509\\Module 1\\Assign...</td>\n",
       "      <td>houstonrodeo\\n\\nShooting star flew across the ...</td>\n",
       "    </tr>\n",
       "    <tr>\n",
       "      <th>6</th>\n",
       "      <td>Taylor Swift</td>\n",
       "      <td>C:\\USD\\MSADS\\Spring 24\\ADS 509\\Module 1\\Assign...</td>\n",
       "      <td>iusedtofly\\n\\nI... I used to fly\\nDidn't matte...</td>\n",
       "    </tr>\n",
       "    <tr>\n",
       "      <th>7</th>\n",
       "      <td>Taylor Swift</td>\n",
       "      <td>C:\\USD\\MSADS\\Spring 24\\ADS 509\\Module 1\\Assign...</td>\n",
       "      <td>kidinthecrowd\\n\\nLittle girl, she looks around...</td>\n",
       "    </tr>\n",
       "    <tr>\n",
       "      <th>8</th>\n",
       "      <td>Taylor Swift</td>\n",
       "      <td>C:\\USD\\MSADS\\Spring 24\\ADS 509\\Module 1\\Assign...</td>\n",
       "      <td>luckyyou\\n\\nThere's a little girl in this litt...</td>\n",
       "    </tr>\n",
       "    <tr>\n",
       "      <th>9</th>\n",
       "      <td>Taylor Swift</td>\n",
       "      <td>C:\\USD\\MSADS\\Spring 24\\ADS 509\\Module 1\\Assign...</td>\n",
       "      <td>maryjo\\n\\nThere's a little green house off a g...</td>\n",
       "    </tr>\n",
       "    <tr>\n",
       "      <th>10</th>\n",
       "      <td>Taylor Swift</td>\n",
       "      <td>C:\\USD\\MSADS\\Spring 24\\ADS 509\\Module 1\\Assign...</td>\n",
       "      <td>myturntobeme\\n\\nSomething about me didn't fit ...</td>\n",
       "    </tr>\n",
       "    <tr>\n",
       "      <th>11</th>\n",
       "      <td>Taylor Swift</td>\n",
       "      <td>C:\\USD\\MSADS\\Spring 24\\ADS 509\\Module 1\\Assign...</td>\n",
       "      <td>neverfade\\n\\nI think you fell off of your clou...</td>\n",
       "    </tr>\n",
       "    <tr>\n",
       "      <th>12</th>\n",
       "      <td>Taylor Swift</td>\n",
       "      <td>C:\\USD\\MSADS\\Spring 24\\ADS 509\\Module 1\\Assign...</td>\n",
       "      <td>onesidedgoodbye\\n\\nYou said it, then you walke...</td>\n",
       "    </tr>\n",
       "    <tr>\n",
       "      <th>13</th>\n",
       "      <td>Taylor Swift</td>\n",
       "      <td>C:\\USD\\MSADS\\Spring 24\\ADS 509\\Module 1\\Assign...</td>\n",
       "      <td>picturetoburn\\n\\nState the obvious, I didn't g...</td>\n",
       "    </tr>\n",
       "    <tr>\n",
       "      <th>14</th>\n",
       "      <td>Taylor Swift</td>\n",
       "      <td>C:\\USD\\MSADS\\Spring 24\\ADS 509\\Module 1\\Assign...</td>\n",
       "      <td>pointofview\\n\\nTime is passing slowly for the ...</td>\n",
       "    </tr>\n",
       "    <tr>\n",
       "      <th>15</th>\n",
       "      <td>Taylor Swift</td>\n",
       "      <td>C:\\USD\\MSADS\\Spring 24\\ADS 509\\Module 1\\Assign...</td>\n",
       "      <td>rideon\\n\\nThink of an angel tonight\\nThink of ...</td>\n",
       "    </tr>\n",
       "    <tr>\n",
       "      <th>16</th>\n",
       "      <td>Taylor Swift</td>\n",
       "      <td>C:\\USD\\MSADS\\Spring 24\\ADS 509\\Module 1\\Assign...</td>\n",
       "      <td>samegirl\\n\\nI'm still wearing my blue jeans\\nN...</td>\n",
       "    </tr>\n",
       "    <tr>\n",
       "      <th>17</th>\n",
       "      <td>Taylor Swift</td>\n",
       "      <td>C:\\USD\\MSADS\\Spring 24\\ADS 509\\Module 1\\Assign...</td>\n",
       "      <td>smokeyblacknights\\n\\nLet's watch\\nThe tide cha...</td>\n",
       "    </tr>\n",
       "    <tr>\n",
       "      <th>18</th>\n",
       "      <td>Taylor Swift</td>\n",
       "      <td>C:\\USD\\MSADS\\Spring 24\\ADS 509\\Module 1\\Assign...</td>\n",
       "      <td>teardropsonmyguitar\\n\\nDrew looks at me\\nI fak...</td>\n",
       "    </tr>\n",
       "    <tr>\n",
       "      <th>19</th>\n",
       "      <td>Taylor Swift</td>\n",
       "      <td>C:\\USD\\MSADS\\Spring 24\\ADS 509\\Module 1\\Assign...</td>\n",
       "      <td>timmcgraw\\n\\nHe said the way my blue eyes shin...</td>\n",
       "    </tr>\n",
       "    <tr>\n",
       "      <th>20</th>\n",
       "      <td>Taylor Swift</td>\n",
       "      <td>C:\\USD\\MSADS\\Spring 24\\ADS 509\\Module 1\\Assign...</td>\n",
       "      <td>whydoyoutellme\\n\\nI tried to impress you\\nIt d...</td>\n",
       "    </tr>\n",
       "    <tr>\n",
       "      <th>21</th>\n",
       "      <td>Taylor Swift</td>\n",
       "      <td>C:\\USD\\MSADS\\Spring 24\\ADS 509\\Module 1\\Assign...</td>\n",
       "      <td>yourheartssomewhereelse\\n\\nI used to know ever...</td>\n",
       "    </tr>\n",
       "    <tr>\n",
       "      <th>0</th>\n",
       "      <td>Eminem</td>\n",
       "      <td>C:\\USD\\MSADS\\Spring 24\\ADS 509\\Module 1\\Assign...</td>\n",
       "      <td>313\\n\\nNow what you know about a sweet MC, fro...</td>\n",
       "    </tr>\n",
       "    <tr>\n",
       "      <th>1</th>\n",
       "      <td>Eminem</td>\n",
       "      <td>C:\\USD\\MSADS\\Spring 24\\ADS 509\\Module 1\\Assign...</td>\n",
       "      <td>backstabber\\n\\nAttention all units, attention ...</td>\n",
       "    </tr>\n",
       "    <tr>\n",
       "      <th>2</th>\n",
       "      <td>Eminem</td>\n",
       "      <td>C:\\USD\\MSADS\\Spring 24\\ADS 509\\Module 1\\Assign...</td>\n",
       "      <td></td>\n",
       "    </tr>\n",
       "    <tr>\n",
       "      <th>3</th>\n",
       "      <td>Eminem</td>\n",
       "      <td>C:\\USD\\MSADS\\Spring 24\\ADS 509\\Module 1\\Assign...</td>\n",
       "      <td>ifihad\\n\\n\"Life\" by Marshall Mathers\\nWhat is ...</td>\n",
       "    </tr>\n",
       "    <tr>\n",
       "      <th>4</th>\n",
       "      <td>Eminem</td>\n",
       "      <td>C:\\USD\\MSADS\\Spring 24\\ADS 509\\Module 1\\Assign...</td>\n",
       "      <td>infinite\\n\\nAw, yeah (It's like this, like thi...</td>\n",
       "    </tr>\n",
       "    <tr>\n",
       "      <th>5</th>\n",
       "      <td>Eminem</td>\n",
       "      <td>C:\\USD\\MSADS\\Spring 24\\ADS 509\\Module 1\\Assign...</td>\n",
       "      <td>introslimshady\\n\\n[Slim Shady:]\\n\"Eminem\"\\n[Em...</td>\n",
       "    </tr>\n",
       "    <tr>\n",
       "      <th>6</th>\n",
       "      <td>Eminem</td>\n",
       "      <td>C:\\USD\\MSADS\\Spring 24\\ADS 509\\Module 1\\Assign...</td>\n",
       "      <td>itsok\\n\\nCheck it out\\nHey Kyu!\\nIt's a broke ...</td>\n",
       "    </tr>\n",
       "    <tr>\n",
       "      <th>7</th>\n",
       "      <td>Eminem</td>\n",
       "      <td>C:\\USD\\MSADS\\Spring 24\\ADS 509\\Module 1\\Assign...</td>\n",
       "      <td>jealousywoesii\\n\\nJealous!\\nJealous!\\nJealous!...</td>\n",
       "    </tr>\n",
       "    <tr>\n",
       "      <th>8</th>\n",
       "      <td>Eminem</td>\n",
       "      <td>C:\\USD\\MSADS\\Spring 24\\ADS 509\\Module 1\\Assign...</td>\n",
       "      <td>justdontgiveafuck\\n\\nWhoa, a-get your hands in...</td>\n",
       "    </tr>\n",
       "    <tr>\n",
       "      <th>9</th>\n",
       "      <td>Eminem</td>\n",
       "      <td>C:\\USD\\MSADS\\Spring 24\\ADS 509\\Module 1\\Assign...</td>\n",
       "      <td>justthetwoofus\\n\\n(Just the two of us, just th...</td>\n",
       "    </tr>\n",
       "    <tr>\n",
       "      <th>10</th>\n",
       "      <td>Eminem</td>\n",
       "      <td>C:\\USD\\MSADS\\Spring 24\\ADS 509\\Module 1\\Assign...</td>\n",
       "      <td>lowdowndirty\\n\\n\"I'm low down and dirty, but n...</td>\n",
       "    </tr>\n",
       "    <tr>\n",
       "      <th>11</th>\n",
       "      <td>Eminem</td>\n",
       "      <td>C:\\USD\\MSADS\\Spring 24\\ADS 509\\Module 1\\Assign...</td>\n",
       "      <td>maxine\\n\\nMaxine!\\nHello\\nCan I speak to Maxin...</td>\n",
       "    </tr>\n",
       "    <tr>\n",
       "      <th>12</th>\n",
       "      <td>Eminem</td>\n",
       "      <td>C:\\USD\\MSADS\\Spring 24\\ADS 509\\Module 1\\Assign...</td>\n",
       "      <td>mommyskit\\n\\n[*The sound of a body being dragg...</td>\n",
       "    </tr>\n",
       "    <tr>\n",
       "      <th>13</th>\n",
       "      <td>Eminem</td>\n",
       "      <td>C:\\USD\\MSADS\\Spring 24\\ADS 509\\Module 1\\Assign...</td>\n",
       "      <td>murdermurder\\n\\n\"All I see is murder murder, m...</td>\n",
       "    </tr>\n",
       "    <tr>\n",
       "      <th>14</th>\n",
       "      <td>Eminem</td>\n",
       "      <td>C:\\USD\\MSADS\\Spring 24\\ADS 509\\Module 1\\Assign...</td>\n",
       "      <td>mynameis\\n\\n[Eminem:]\\nHi, my name is, what? M...</td>\n",
       "    </tr>\n",
       "    <tr>\n",
       "      <th>15</th>\n",
       "      <td>Eminem</td>\n",
       "      <td>C:\\USD\\MSADS\\Spring 24\\ADS 509\\Module 1\\Assign...</td>\n",
       "      <td>never2far\\n\\nDenaun, what up, man?\\nWhat up, d...</td>\n",
       "    </tr>\n",
       "    <tr>\n",
       "      <th>16</th>\n",
       "      <td>Eminem</td>\n",
       "      <td>C:\\USD\\MSADS\\Spring 24\\ADS 509\\Module 1\\Assign...</td>\n",
       "      <td>noonesillerthanme\\n\\nYeah… ha ha ha (Bang!)\\nY...</td>\n",
       "    </tr>\n",
       "    <tr>\n",
       "      <th>17</th>\n",
       "      <td>Eminem</td>\n",
       "      <td>C:\\USD\\MSADS\\Spring 24\\ADS 509\\Module 1\\Assign...</td>\n",
       "      <td>openmic\\n\\nHey yo, what's up, man?\\nHey yo, yo...</td>\n",
       "    </tr>\n",
       "    <tr>\n",
       "      <th>18</th>\n",
       "      <td>Eminem</td>\n",
       "      <td>C:\\USD\\MSADS\\Spring 24\\ADS 509\\Module 1\\Assign...</td>\n",
       "      <td>publicserviceannouncementskit\\n\\n[Jeff Bass:]\\...</td>\n",
       "    </tr>\n",
       "    <tr>\n",
       "      <th>19</th>\n",
       "      <td>Eminem</td>\n",
       "      <td>C:\\USD\\MSADS\\Spring 24\\ADS 509\\Module 1\\Assign...</td>\n",
       "      <td>searchin\\n\\n[Angela Workman:]\\nAin't no one sp...</td>\n",
       "    </tr>\n",
       "    <tr>\n",
       "      <th>20</th>\n",
       "      <td>Eminem</td>\n",
       "      <td>C:\\USD\\MSADS\\Spring 24\\ADS 509\\Module 1\\Assign...</td>\n",
       "      <td>tonight\\n\\nTonight, tonight, tonight, tonight,...</td>\n",
       "    </tr>\n",
       "    <tr>\n",
       "      <th>21</th>\n",
       "      <td>Eminem</td>\n",
       "      <td>C:\\USD\\MSADS\\Spring 24\\ADS 509\\Module 1\\Assign...</td>\n",
       "      <td>wegointerlude\\n\\nYeah, soul intent, checking i...</td>\n",
       "    </tr>\n",
       "  </tbody>\n",
       "</table>\n",
       "</div>"
      ],
      "text/plain": [
       "          Artist                                               Song  \\\n",
       "0   Taylor Swift  C:\\USD\\MSADS\\Spring 24\\ADS 509\\Module 1\\Assign...   \n",
       "1   Taylor Swift  C:\\USD\\MSADS\\Spring 24\\ADS 509\\Module 1\\Assign...   \n",
       "2   Taylor Swift  C:\\USD\\MSADS\\Spring 24\\ADS 509\\Module 1\\Assign...   \n",
       "3   Taylor Swift  C:\\USD\\MSADS\\Spring 24\\ADS 509\\Module 1\\Assign...   \n",
       "4   Taylor Swift  C:\\USD\\MSADS\\Spring 24\\ADS 509\\Module 1\\Assign...   \n",
       "5   Taylor Swift  C:\\USD\\MSADS\\Spring 24\\ADS 509\\Module 1\\Assign...   \n",
       "6   Taylor Swift  C:\\USD\\MSADS\\Spring 24\\ADS 509\\Module 1\\Assign...   \n",
       "7   Taylor Swift  C:\\USD\\MSADS\\Spring 24\\ADS 509\\Module 1\\Assign...   \n",
       "8   Taylor Swift  C:\\USD\\MSADS\\Spring 24\\ADS 509\\Module 1\\Assign...   \n",
       "9   Taylor Swift  C:\\USD\\MSADS\\Spring 24\\ADS 509\\Module 1\\Assign...   \n",
       "10  Taylor Swift  C:\\USD\\MSADS\\Spring 24\\ADS 509\\Module 1\\Assign...   \n",
       "11  Taylor Swift  C:\\USD\\MSADS\\Spring 24\\ADS 509\\Module 1\\Assign...   \n",
       "12  Taylor Swift  C:\\USD\\MSADS\\Spring 24\\ADS 509\\Module 1\\Assign...   \n",
       "13  Taylor Swift  C:\\USD\\MSADS\\Spring 24\\ADS 509\\Module 1\\Assign...   \n",
       "14  Taylor Swift  C:\\USD\\MSADS\\Spring 24\\ADS 509\\Module 1\\Assign...   \n",
       "15  Taylor Swift  C:\\USD\\MSADS\\Spring 24\\ADS 509\\Module 1\\Assign...   \n",
       "16  Taylor Swift  C:\\USD\\MSADS\\Spring 24\\ADS 509\\Module 1\\Assign...   \n",
       "17  Taylor Swift  C:\\USD\\MSADS\\Spring 24\\ADS 509\\Module 1\\Assign...   \n",
       "18  Taylor Swift  C:\\USD\\MSADS\\Spring 24\\ADS 509\\Module 1\\Assign...   \n",
       "19  Taylor Swift  C:\\USD\\MSADS\\Spring 24\\ADS 509\\Module 1\\Assign...   \n",
       "20  Taylor Swift  C:\\USD\\MSADS\\Spring 24\\ADS 509\\Module 1\\Assign...   \n",
       "21  Taylor Swift  C:\\USD\\MSADS\\Spring 24\\ADS 509\\Module 1\\Assign...   \n",
       "0         Eminem  C:\\USD\\MSADS\\Spring 24\\ADS 509\\Module 1\\Assign...   \n",
       "1         Eminem  C:\\USD\\MSADS\\Spring 24\\ADS 509\\Module 1\\Assign...   \n",
       "2         Eminem  C:\\USD\\MSADS\\Spring 24\\ADS 509\\Module 1\\Assign...   \n",
       "3         Eminem  C:\\USD\\MSADS\\Spring 24\\ADS 509\\Module 1\\Assign...   \n",
       "4         Eminem  C:\\USD\\MSADS\\Spring 24\\ADS 509\\Module 1\\Assign...   \n",
       "5         Eminem  C:\\USD\\MSADS\\Spring 24\\ADS 509\\Module 1\\Assign...   \n",
       "6         Eminem  C:\\USD\\MSADS\\Spring 24\\ADS 509\\Module 1\\Assign...   \n",
       "7         Eminem  C:\\USD\\MSADS\\Spring 24\\ADS 509\\Module 1\\Assign...   \n",
       "8         Eminem  C:\\USD\\MSADS\\Spring 24\\ADS 509\\Module 1\\Assign...   \n",
       "9         Eminem  C:\\USD\\MSADS\\Spring 24\\ADS 509\\Module 1\\Assign...   \n",
       "10        Eminem  C:\\USD\\MSADS\\Spring 24\\ADS 509\\Module 1\\Assign...   \n",
       "11        Eminem  C:\\USD\\MSADS\\Spring 24\\ADS 509\\Module 1\\Assign...   \n",
       "12        Eminem  C:\\USD\\MSADS\\Spring 24\\ADS 509\\Module 1\\Assign...   \n",
       "13        Eminem  C:\\USD\\MSADS\\Spring 24\\ADS 509\\Module 1\\Assign...   \n",
       "14        Eminem  C:\\USD\\MSADS\\Spring 24\\ADS 509\\Module 1\\Assign...   \n",
       "15        Eminem  C:\\USD\\MSADS\\Spring 24\\ADS 509\\Module 1\\Assign...   \n",
       "16        Eminem  C:\\USD\\MSADS\\Spring 24\\ADS 509\\Module 1\\Assign...   \n",
       "17        Eminem  C:\\USD\\MSADS\\Spring 24\\ADS 509\\Module 1\\Assign...   \n",
       "18        Eminem  C:\\USD\\MSADS\\Spring 24\\ADS 509\\Module 1\\Assign...   \n",
       "19        Eminem  C:\\USD\\MSADS\\Spring 24\\ADS 509\\Module 1\\Assign...   \n",
       "20        Eminem  C:\\USD\\MSADS\\Spring 24\\ADS 509\\Module 1\\Assign...   \n",
       "21        Eminem  C:\\USD\\MSADS\\Spring 24\\ADS 509\\Module 1\\Assign...   \n",
       "\n",
       "                                               Lyrics  \n",
       "0   alittlemorelikeyou\\n\\nThink of something you c...  \n",
       "1   babyblue\\n\\nSmall town, big blue sky\\nLittle b...  \n",
       "2   beautifuldays\\n\\nA moment just passed\\nAnd I k...  \n",
       "3   fire\\n\\nAsking you questions is like asking fo...  \n",
       "4   halfwaytotexas\\n\\nWhen I got mad at you, I alw...  \n",
       "5   houstonrodeo\\n\\nShooting star flew across the ...  \n",
       "6   iusedtofly\\n\\nI... I used to fly\\nDidn't matte...  \n",
       "7   kidinthecrowd\\n\\nLittle girl, she looks around...  \n",
       "8   luckyyou\\n\\nThere's a little girl in this litt...  \n",
       "9   maryjo\\n\\nThere's a little green house off a g...  \n",
       "10  myturntobeme\\n\\nSomething about me didn't fit ...  \n",
       "11  neverfade\\n\\nI think you fell off of your clou...  \n",
       "12  onesidedgoodbye\\n\\nYou said it, then you walke...  \n",
       "13  picturetoburn\\n\\nState the obvious, I didn't g...  \n",
       "14  pointofview\\n\\nTime is passing slowly for the ...  \n",
       "15  rideon\\n\\nThink of an angel tonight\\nThink of ...  \n",
       "16  samegirl\\n\\nI'm still wearing my blue jeans\\nN...  \n",
       "17  smokeyblacknights\\n\\nLet's watch\\nThe tide cha...  \n",
       "18  teardropsonmyguitar\\n\\nDrew looks at me\\nI fak...  \n",
       "19  timmcgraw\\n\\nHe said the way my blue eyes shin...  \n",
       "20  whydoyoutellme\\n\\nI tried to impress you\\nIt d...  \n",
       "21  yourheartssomewhereelse\\n\\nI used to know ever...  \n",
       "0   313\\n\\nNow what you know about a sweet MC, fro...  \n",
       "1   backstabber\\n\\nAttention all units, attention ...  \n",
       "2                                                      \n",
       "3   ifihad\\n\\n\"Life\" by Marshall Mathers\\nWhat is ...  \n",
       "4   infinite\\n\\nAw, yeah (It's like this, like thi...  \n",
       "5   introslimshady\\n\\n[Slim Shady:]\\n\"Eminem\"\\n[Em...  \n",
       "6   itsok\\n\\nCheck it out\\nHey Kyu!\\nIt's a broke ...  \n",
       "7   jealousywoesii\\n\\nJealous!\\nJealous!\\nJealous!...  \n",
       "8   justdontgiveafuck\\n\\nWhoa, a-get your hands in...  \n",
       "9   justthetwoofus\\n\\n(Just the two of us, just th...  \n",
       "10  lowdowndirty\\n\\n\"I'm low down and dirty, but n...  \n",
       "11  maxine\\n\\nMaxine!\\nHello\\nCan I speak to Maxin...  \n",
       "12  mommyskit\\n\\n[*The sound of a body being dragg...  \n",
       "13  murdermurder\\n\\n\"All I see is murder murder, m...  \n",
       "14  mynameis\\n\\n[Eminem:]\\nHi, my name is, what? M...  \n",
       "15  never2far\\n\\nDenaun, what up, man?\\nWhat up, d...  \n",
       "16  noonesillerthanme\\n\\nYeah… ha ha ha (Bang!)\\nY...  \n",
       "17  openmic\\n\\nHey yo, what's up, man?\\nHey yo, yo...  \n",
       "18  publicserviceannouncementskit\\n\\n[Jeff Bass:]\\...  \n",
       "19  searchin\\n\\n[Angela Workman:]\\nAin't no one sp...  \n",
       "20  tonight\\n\\nTonight, tonight, tonight, tonight,...  \n",
       "21  wegointerlude\\n\\nYeah, soul intent, checking i...  "
      ]
     },
     "execution_count": 12,
     "metadata": {},
     "output_type": "execute_result"
    }
   ],
   "source": [
    "combined_lyrics = [taylorswiftlyrics, eminemlyrics]\n",
    "\n",
    "combined_lyrics_df = pd.concat(combined_lyrics)\n",
    "\n",
    "combined_lyrics_df"
   ]
  },
  {
   "cell_type": "code",
   "execution_count": 13,
   "metadata": {},
   "outputs": [],
   "source": [
    "# Read in the twitter data\n",
    "# change `data_location` to the location of the folder on your machine.\n",
    "twitter_location = \"C:/USD/MSADS/Spring 24/ADS 509/Module 2/Assignment/M1 Assignment Data/M1 Results/twitter/\"\n",
    "\n",
    "os.chdir(twitter_location)\n",
    "\n",
    "twitter_files = os.listdir(twitter_location)\n",
    "desc_files = [f for f in twitter_files if \"followers_data\" in f]\n",
    "twitter_data = defaultdict(list)\n",
    "for f in desc_files :\n",
    "    artist = f.split(\"_\")[0]\n",
    "        \n",
    "    with open(twitter_location + f,'r', encoding='utf8') as infile :\n",
    "        next(infile)\n",
    "        for idx, line in enumerate(infile.readlines()) :\n",
    "            line = line.strip().split(\"\\t\")\n",
    "            if len(line) == 7 :\n",
    "                twitter_data[artist].append(line[6])"
   ]
  },
  {
   "cell_type": "markdown",
   "id": "6a5f3b12",
   "metadata": {},
   "source": [
    "## Data Cleaning\n",
    "\n",
    "Now clean and tokenize your data. Remove punctuation chacters (available in the `punctuation` object in the `string` library), split on whitespace, fold to lowercase, and remove stopwords. Store your cleaned data, which must be accessible as an interable for `descriptive_stats`, in new objects or in new columns in your data frame. \n",
    "\n"
   ]
  },
  {
   "cell_type": "code",
   "execution_count": 14,
   "id": "71c73d86",
   "metadata": {},
   "outputs": [],
   "source": [
    "punctuation = set(punctuation) # speeds up comparison"
   ]
  },
  {
   "cell_type": "code",
   "execution_count": 15,
   "id": "b327033a",
   "metadata": {},
   "outputs": [],
   "source": [
    "# create your clean twitter data here\n",
    "def remove_stop(tokens):\n",
    "    return [t for t in tokens if t.lower() not in stopwords]\n",
    "\n",
    "# Reuse regex from tokenizeText Function\n",
    "# Reuse the Transform function and the prepareData function\n",
    "\n",
    "twitter_df = pd.DataFrame([(k, x) for k, v in twitter_data.items() for x in v], columns=['artist','tweet'])\n",
    "twitter_df['tokens'] = twitter_df['tweet'].apply(prepareData, transform=transform)\n",
    "chertweets = twitter_df[twitter_df[\"artist\"] == \"cher\"]\n",
    "robyntweets = twitter_df[twitter_df[\"artist\"] != \"cher\"]"
   ]
  },
  {
   "cell_type": "code",
   "execution_count": 16,
   "id": "e0f22e10",
   "metadata": {},
   "outputs": [],
   "source": [
    "# create your clean lyrics data here\n",
    "\n",
    "combined_lyrics_df['tokens'] = combined_lyrics_df['Lyrics'].apply(prepareData, transform=transform)\n",
    "taylorswiftlyrics['tokens'] = taylorswiftlyrics['Lyrics'].apply(prepareData, transform=transform)\n",
    "eminemlyrics['tokens'] = eminemlyrics['Lyrics'].apply(prepareData, transform=transform)"
   ]
  },
  {
   "cell_type": "markdown",
   "id": "f2dd0179",
   "metadata": {},
   "source": [
    "## Basic Descriptive Statistics\n",
    "\n",
    "Call your `descriptive_stats` function on both your lyrics data and your twitter data and for both artists (four total calls). "
   ]
  },
  {
   "cell_type": "code",
   "execution_count": 17,
   "id": "f0bbedd9",
   "metadata": {},
   "outputs": [
    {
     "name": "stdout",
     "output_type": "stream",
     "text": [
      "Taylor Swift Stats\n",
      "There are 6323 tokens in the data.\n",
      "There are 897 unique tokens in the data.\n",
      "There are 23061 characters in the data.\n",
      "The lexical diversity is 0.142 in the data.\n",
      "The top 5 most common words are\n",
      "[('i', 326), ('you', 285), ('the', 187), ('to', 164), ('and', 138)]\n",
      "\n",
      "Eminem Stats\n",
      "There are 14200 tokens in the data.\n",
      "There are 2623 unique tokens in the data.\n",
      "There are 52899 characters in the data.\n",
      "The lexical diversity is 0.185 in the data.\n",
      "The top 5 most common words are\n",
      "[('i', 669), ('the', 463), ('you', 450), ('and', 359), ('a', 341)]\n",
      "\n",
      "Cher Stats\n",
      "There are 22645956 tokens in the data.\n",
      "There are 988979 unique tokens in the data.\n",
      "There are 106792530 characters in the data.\n",
      "The lexical diversity is 0.044 in the data.\n",
      "The top 5 most common words are\n",
      "[('i', 600604), ('and', 575886), ('a', 424923), ('the', 408343), ('to', 351244)]\n",
      "\n",
      "Robyn Stats\n",
      "There are 2058267 tokens in the data.\n",
      "There are 208184 unique tokens in the data.\n",
      "There are 10230438 characters in the data.\n",
      "The lexical diversity is 0.101 in the data.\n",
      "The top 5 most common words are\n",
      "[('i', 45376), ('and', 45049), ('the', 34843), ('a', 31096), ('of', 25970)]\n"
     ]
    },
    {
     "data": {
      "text/plain": [
       "[2058267, 208184, 0.10114528387230617, 10230438]"
      ]
     },
     "execution_count": 17,
     "metadata": {},
     "output_type": "execute_result"
    }
   ],
   "source": [
    "# calls to descriptive_stats here\n",
    "print(\"Taylor Swift Stats\")\n",
    "descriptive_stats(taylorswiftlyrics[\"tokens\"])\n",
    "print(\"\\nEminem Stats\")\n",
    "descriptive_stats(eminemlyrics[\"tokens\"])\n",
    "print(\"\\nCher Stats\")\n",
    "descriptive_stats(chertweets[\"tokens\"])\n",
    "print(\"\\nRobyn Stats\")\n",
    "descriptive_stats(robyntweets[\"tokens\"])\n"
   ]
  },
  {
   "cell_type": "markdown",
   "id": "46294409",
   "metadata": {},
   "source": [
    "Q: How do you think the \"top 5 words\" would be different if we left stopwords in the data? \n",
    "\n",
    "A: If we kept common words like \"the\" and \"and\" in the data, they would likely dominate the \"top 5 words\" list, overshadowing more artist-specific or meaningful words.\n",
    "\n",
    "---\n",
    "\n",
    "Q: What were your prior beliefs about the lexical diversity between the artists? Does the difference (or lack thereof) in lexical diversity between the artists conform to your prior beliefs? \n",
    "\n",
    "A: My expectations about how diverse an artist's lyrics are depended on their style. The observed differences in lexical diversity match what I anticipated. Artists with varied vocabulary and lyrical styles, like Taylor Swift, show higher diversity, while those with repetitive themes, like Cher, exhibit lower diversity.\n"
   ]
  },
  {
   "cell_type": "markdown",
   "id": "4d4e1ac1",
   "metadata": {},
   "source": [
    "\n",
    "## Specialty Statistics\n",
    "\n",
    "The descriptive statistics we have calculated are quite generic. You will now calculate a handful of statistics tailored to these data.\n",
    "\n",
    "1. Ten most common emojis by artist in the twitter descriptions.\n",
    "1. Ten most common hashtags by artist in the twitter descriptions.\n",
    "1. Five most common words in song titles by artist. \n",
    "1. For each artist, a histogram of song lengths (in terms of number of tokens) \n",
    "\n",
    "We can use the `emoji` library to help us identify emojis and you have been given a function to help you.\n"
   ]
  },
  {
   "cell_type": "code",
   "execution_count": 18,
   "id": "753a5a3e",
   "metadata": {},
   "outputs": [],
   "source": [
    "assert(emoji.is_emoji(\"❤️\"))\n",
    "assert(not emoji.is_emoji(\":-)\"))"
   ]
  },
  {
   "cell_type": "markdown",
   "id": "986fc4c0",
   "metadata": {},
   "source": [
    "### Emojis 😁\n",
    "\n",
    "What are the ten most common emojis by artist in the twitter descriptions? \n"
   ]
  },
  {
   "cell_type": "code",
   "execution_count": 19,
   "id": "269cd433",
   "metadata": {},
   "outputs": [
    {
     "name": "stderr",
     "output_type": "stream",
     "text": [
      "C:\\Users\\ebbi_\\AppData\\Local\\Temp\\ipykernel_1800\\1524961650.py:13: SettingWithCopyWarning: \n",
      "A value is trying to be set on a copy of a slice from a DataFrame.\n",
      "Try using .loc[row_indexer,col_indexer] = value instead\n",
      "\n",
      "See the caveats in the documentation: https://pandas.pydata.org/pandas-docs/stable/user_guide/indexing.html#returning-a-view-versus-a-copy\n",
      "  chertweets['has_emoji'] = contains_emoji\n"
     ]
    }
   ],
   "source": [
    "# Your code here\n",
    "contains_emoji = []\n",
    "emojis = []\n",
    "            \n",
    "for row in chertweets['tweet']:\n",
    "    emoji_found = False\n",
    "    for char in row:\n",
    "        if emoji.is_emoji(char):\n",
    "            emoji_found = True\n",
    "            emojis.append(char)\n",
    "    contains_emoji.append(emoji_found)\n",
    "\n",
    "chertweets['has_emoji'] = contains_emoji"
   ]
  },
  {
   "cell_type": "code",
   "execution_count": 20,
   "metadata": {},
   "outputs": [],
   "source": [
    "cheremojis = emojis\n",
    "cheremojis = pd.DataFrame(cheremojis, columns=['emojis'])"
   ]
  },
  {
   "cell_type": "code",
   "execution_count": 21,
   "metadata": {},
   "outputs": [
    {
     "name": "stderr",
     "output_type": "stream",
     "text": [
      "C:\\Users\\ebbi_\\AppData\\Local\\Temp\\ipykernel_1800\\2943622266.py:12: SettingWithCopyWarning: \n",
      "A value is trying to be set on a copy of a slice from a DataFrame.\n",
      "Try using .loc[row_indexer,col_indexer] = value instead\n",
      "\n",
      "See the caveats in the documentation: https://pandas.pydata.org/pandas-docs/stable/user_guide/indexing.html#returning-a-view-versus-a-copy\n",
      "  robyntweets['has_emoji'] = contains_emoji\n"
     ]
    }
   ],
   "source": [
    "contains_emoji = []\n",
    "emojis = []\n",
    "            \n",
    "for row in robyntweets['tweet']:\n",
    "    emoji_found = False\n",
    "    for char in row:\n",
    "        if emoji.is_emoji(char):\n",
    "            emoji_found = True\n",
    "            emojis.append(char)\n",
    "    contains_emoji.append(emoji_found)\n",
    "\n",
    "robyntweets['has_emoji'] = contains_emoji"
   ]
  },
  {
   "cell_type": "code",
   "execution_count": 22,
   "metadata": {},
   "outputs": [],
   "source": [
    "robynemojis = emojis\n",
    "robynemojis = pd.DataFrame(robynemojis, columns=['emojis'])"
   ]
  },
  {
   "cell_type": "code",
   "execution_count": 23,
   "metadata": {},
   "outputs": [
    {
     "name": "stdout",
     "output_type": "stream",
     "text": [
      "Top Cher Emojis\n",
      "['❤', '🌈', '♥', '🏳', '✨', '💙', '🏻', '🌊', '✌', '💜']\n",
      "\n",
      " Top Robyn Emojis\n",
      "['❤', '🌈', '🏳', '♥', '✨', '🏻', '✌', '🏼', '♀', '💙']\n"
     ]
    }
   ],
   "source": [
    "n = 10\n",
    "print(\"Top Cher Emojis\")\n",
    "print(cheremojis['emojis'].value_counts()[:n].index.tolist())\n",
    "print(\"\\n Top Robyn Emojis\")\n",
    "print(robynemojis['emojis'].value_counts()[:n].index.tolist())"
   ]
  },
  {
   "cell_type": "markdown",
   "id": "bab9b770",
   "metadata": {},
   "source": [
    "### Hashtags\n",
    "\n",
    "What are the ten most common hashtags by artist in the twitter descriptions? \n"
   ]
  },
  {
   "cell_type": "code",
   "execution_count": 24,
   "id": "07c396f1",
   "metadata": {},
   "outputs": [],
   "source": [
    "# Your code here\n",
    "#Cher\n",
    "cherhashtags = chertweets.tweet.str.findall(r'#.*?(?=\\s|$)')\n",
    "cherhashtags = cherhashtags.to_frame()\n",
    "cherhashtags = cherhashtags[cherhashtags['tweet'].astype(str).str.contains(\"#\")]\n",
    "cherhashtags = cherhashtags.explode(\"tweet\")\n",
    "#Robyn\n",
    "robynhashtags = robyntweets.tweet.str.findall(r'#.*?(?=\\s|$)')\n",
    "robynhashtags = robynhashtags.to_frame()\n",
    "robynhashtags = robynhashtags[robynhashtags['tweet'].astype(str).str.contains(\"#\")]\n",
    "\n",
    "robynhashtags = robynhashtags.explode(\"tweet\")"
   ]
  },
  {
   "cell_type": "code",
   "execution_count": 25,
   "metadata": {},
   "outputs": [
    {
     "name": "stdout",
     "output_type": "stream",
     "text": [
      "Top Cher Hashtags\n",
      "['#BLM', '#Resist', '#BlackLivesMatter', '#resist', '#', '#FBR', '#TheResistance', '#blacklivesmatter', '#1', '#Resistance']\n",
      "\n",
      " Top Robyn Hashtags\n",
      "['#BlackLivesMatter', '#BLM', '#', '#blacklivesmatter', '#1', '#music', '#Music', '#EDM', '#TeamFollowBack', '#blm']\n"
     ]
    }
   ],
   "source": [
    "n = 10\n",
    "print(\"Top Cher Hashtags\")\n",
    "print(cherhashtags['tweet'].value_counts()[:n].index.tolist())\n",
    "print(\"\\n Top Robyn Hashtags\")\n",
    "print(robynhashtags['tweet'].value_counts()[:n].index.tolist())"
   ]
  },
  {
   "cell_type": "markdown",
   "id": "d10f21d5",
   "metadata": {},
   "source": [
    "### Song Titles\n",
    "\n",
    "What are the five most common words in song titles by artist? The song titles should be on the first line of the lyrics pages, so if you have kept the raw file contents around, you will not need to re-read the data.\n"
   ]
  },
  {
   "cell_type": "code",
   "execution_count": 26,
   "id": "bb69b36b",
   "metadata": {},
   "outputs": [],
   "source": [
    "# Your code here\n",
    "os.chdir(data_location+lyrics_folder)\n",
    "\n",
    "taylorswift_title_list = glob.glob(\n",
    "    os.path.join(\n",
    "        os.getcwd(), \"taylorswift\", \"*.txt\"))\n",
    "\n",
    "taylorswiftsongtitles = []\n",
    "\n",
    "for file_path in taylorswift_title_list:\n",
    "    with open(file_path) as f:\n",
    "        taylorswiftsongtitles.append(f.readline().strip('\\n'))\n",
    "   \n",
    "taylorswiftsongtitles = pd.DataFrame(taylorswiftsongtitles, columns=['titles'])"
   ]
  },
  {
   "cell_type": "code",
   "execution_count": 27,
   "metadata": {},
   "outputs": [],
   "source": [
    "# Your code here\n",
    "os.chdir(data_location+lyrics_folder)\n",
    "\n",
    "eminem_title_list = glob.glob(\n",
    "    os.path.join(\n",
    "        os.getcwd(), \"eminem\", \"*.txt\"))\n",
    "\n",
    "eminemsongtitles = []\n",
    "\n",
    "for file_path in eminem_title_list:\n",
    "    with open(file_path) as f:\n",
    "        eminemsongtitles.append(f.readline().strip('\\n'))\n",
    "   \n",
    "eminemsongtitles = pd.DataFrame(eminemsongtitles, columns=['titles'])"
   ]
  },
  {
   "cell_type": "code",
   "execution_count": 28,
   "metadata": {},
   "outputs": [
    {
     "name": "stdout",
     "output_type": "stream",
     "text": [
      "Top Talor Swift Title Words\n",
      "There are 22 tokens in the data.\n",
      "There are 22 unique tokens in the data.\n",
      "There are 262 characters in the data.\n",
      "The lexical diversity is 1.000 in the data.\n",
      "The top 5 most common words are\n",
      "[('alittlemorelikeyou', 1), ('babyblue', 1), ('beautifuldays', 1), ('fire', 1), ('halfwaytotexas', 1)]\n",
      "\n",
      " Top Eminem Title Words\n",
      "There are 21 tokens in the data.\n",
      "There are 21 unique tokens in the data.\n",
      "There are 229 characters in the data.\n",
      "The lexical diversity is 1.000 in the data.\n",
      "The top 5 most common words are\n",
      "[('313', 1), ('backstabber', 1), ('ifihad', 1), ('infinite', 1), ('introslimshady', 1)]\n"
     ]
    },
    {
     "data": {
      "text/plain": [
       "[21, 21, 1.0, 229]"
      ]
     },
     "execution_count": 28,
     "metadata": {},
     "output_type": "execute_result"
    }
   ],
   "source": [
    "taylorswiftsongtitles['tokens'] = taylorswiftsongtitles['titles'].apply(prepareData, transform=transform)\n",
    "eminemsongtitles['tokens'] = eminemsongtitles['titles'].apply(prepareData, transform=transform)\n",
    "\n",
    "n = 5\n",
    "print(\"Top Talor Swift Title Words\")\n",
    "descriptive_stats(taylorswiftsongtitles[\"tokens\"])\n",
    "print(\"\\n Top Eminem Title Words\")\n",
    "descriptive_stats(eminemsongtitles[\"tokens\"])"
   ]
  },
  {
   "cell_type": "markdown",
   "id": "5dd4fd71",
   "metadata": {},
   "source": [
    "### Song Lengths\n",
    "\n",
    "For each artist, a histogram of song lengths (in terms of number of tokens). If you put the song lengths in a data frame with an artist column, matplotlib will make the plotting quite easy. An example is given to help you out. \n"
   ]
  },
  {
   "cell_type": "code",
   "execution_count": 29,
   "id": "805a1e52",
   "metadata": {},
   "outputs": [
    {
     "data": {
      "text/plain": [
       "artist\n",
       "Artist 1    Axes(0.125,0.11;0.775x0.77)\n",
       "Artist 2    Axes(0.125,0.11;0.775x0.77)\n",
       "Name: length, dtype: object"
      ]
     },
     "execution_count": 29,
     "metadata": {},
     "output_type": "execute_result"
    },
    {
     "data": {
      "image/png": "[encoded data removed]",
      "text/plain": [
       "<Figure size 640x480 with 1 Axes>"
      ]
     },
     "metadata": {},
     "output_type": "display_data"
    }
   ],
   "source": [
    "num_replicates = 1000\n",
    "\n",
    "df = pd.DataFrame({\n",
    "    \"artist\" : ['Artist 1'] * num_replicates + ['Artist 2']*num_replicates,\n",
    "    \"length\" : np.concatenate((np.random.poisson(125,num_replicates),np.random.poisson(150,num_replicates)))\n",
    "})\n",
    "\n",
    "df.groupby('artist')['length'].plot(kind=\"hist\",density=True,alpha=0.5,legend=True)"
   ]
  },
  {
   "cell_type": "markdown",
   "id": "8fde9ebb",
   "metadata": {},
   "source": [
    "Since the lyrics may be stored with carriage returns or tabs, it may be useful to have a function that can collapse whitespace, using regular expressions, and be used for splitting. \n",
    "\n",
    "Q: What does the regular expression `'\\s+'` match on? \n",
    "\n",
    "A: One or more whitespaces.\n"
   ]
  },
  {
   "cell_type": "code",
   "execution_count": 30,
   "id": "f0e34516",
   "metadata": {},
   "outputs": [],
   "source": [
    "collapse_whitespace = re.compile(r'\\s+')\n",
    "\n",
    "def tokenize_lyrics(lyric) : \n",
    "    \"\"\"strip and split on whitespace\"\"\"\n",
    "    return([item.lower() for item in collapse_whitespace.split(lyric)])"
   ]
  },
  {
   "cell_type": "code",
   "execution_count": 31,
   "id": "2294c440",
   "metadata": {},
   "outputs": [],
   "source": [
    "# Your lyric length comparison chart here. \n",
    "combined_lyrics_df['length'] = combined_lyrics_df['Lyrics'].str.split().str.len()"
   ]
  },
  {
   "cell_type": "code",
   "execution_count": 32,
   "metadata": {},
   "outputs": [
    {
     "data": {
      "text/plain": [
       "Artist\n",
       "Eminem          Axes(0.125,0.11;0.775x0.77)\n",
       "Taylor Swift    Axes(0.125,0.11;0.775x0.77)\n",
       "Name: length, dtype: object"
      ]
     },
     "execution_count": 32,
     "metadata": {},
     "output_type": "execute_result"
    },
    {
     "data": {
      "image/png": "[encoded data removed]",
      "text/plain": [
       "<Figure size 640x480 with 1 Axes>"
      ]
     },
     "metadata": {},
     "output_type": "display_data"
    }
   ],
   "source": [
    "combined_lyrics_df.groupby('Artist')['length'].plot(kind=\"hist\",density=True,alpha=0.5,legend=True)"
   ]
  }
 ],
 "metadata": {
  "kernelspec": {
   "display_name": "Python 3 (ipykernel)",
   "language": "python",
   "name": "python3"
  },
  "language_info": {
   "codemirror_mode": {
    "name": "ipython",
    "version": 3
   },
   "file_extension": ".py",
   "mimetype": "text/x-python",
   "name": "python",
   "nbconvert_exporter": "python",
   "pygments_lexer": "ipython3",
   "version": "3.11.3"
  }
 },
 "nbformat": 4,
 "nbformat_minor": 5
}
